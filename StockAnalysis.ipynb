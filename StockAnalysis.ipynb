{
 "cells": [
  {
   "cell_type": "code",
   "execution_count": null,
   "metadata": {
    "colab": {
     "base_uri": "https://localhost:8080/"
    },
    "id": "2IBEmTTMxHk6",
    "outputId": "f63c9a5a-db24-4061-f4de-fe92d6b44c9c"
   },
   "outputs": [],
   "source": [
    "import pandas as pd"
   ]
  },
  {
   "cell_type": "code",
   "execution_count": null,
   "metadata": {
    "id": "6FEI_gKyxPDQ"
   },
   "outputs": [],
   "source": [
    "df=pd.read_csv('./Data.csv', encoding = \"ISO-8859-1\")"
   ]
  },
  {
   "cell_type": "code",
   "execution_count": null,
   "metadata": {
    "colab": {
     "base_uri": "https://localhost:8080/",
     "height": 758
    },
    "id": "FSrAAtnCxR6Y",
    "outputId": "d94aaf12-4ea7-4712-9b64-eaf3353683ad"
   },
   "outputs": [],
   "source": [
    "df.head()"
   ]
  },
  {
   "cell_type": "code",
   "execution_count": null,
   "metadata": {
    "id": "TrRDS4LrxUdy"
   },
   "outputs": [],
   "source": [
    "train = df[df['Date'] < '20150101']\n",
    "test = df[df['Date'] > '20141231']"
   ]
  },
  {
   "cell_type": "code",
   "execution_count": null,
   "metadata": {
    "colab": {
     "base_uri": "https://localhost:8080/",
     "height": 776
    },
    "id": "l_94OxayxXg2",
    "outputId": "81ab70f8-4cca-485f-c37b-2ec2e3b3c323"
   },
   "outputs": [],
   "source": [
    "data=train.iloc[:,2:27]\n",
    "data.replace(\"[^a-zA-Z]\",\" \",regex=True, inplace=True)\n",
    "\n",
    "\n",
    "list1= [i for i in range(25)]\n",
    "new_Index=[str(i) for i in list1] # Renaming column names for ease of access\n",
    "data.columns= new_Index\n",
    "data.head(5)\n",
    "\n"
   ]
  },
  {
   "cell_type": "code",
   "execution_count": null,
   "metadata": {
    "colab": {
     "base_uri": "https://localhost:8080/",
     "height": 404
    },
    "id": "DSfsvgU6xafi",
    "outputId": "29a33802-fa07-43ed-da73-eb311718f61a"
   },
   "outputs": [],
   "source": [
    "for index in new_Index:\n",
    "    data[index]=data[index].str.lower() #Convertng headlines to lower case because in bag of word model Cat and cat are considered two different words\n",
    "data.head(2)"
   ]
  },
  {
   "cell_type": "code",
   "execution_count": null,
   "metadata": {
    "id": "Ipa7nPSyxgIH"
   },
   "outputs": [],
   "source": [
    "headlines = []\n",
    "for row in range(0,len(data.index)):\n",
    "    headlines.append(' '.join(str(x) for x in data.iloc[row,0:25]))\n"
   ]
  },
  {
   "cell_type": "code",
   "execution_count": null,
   "metadata": {
    "colab": {
     "base_uri": "https://localhost:8080/",
     "height": 105
    },
    "id": "L164bfzKxk4M",
    "outputId": "e03262bf-e81b-4752-8a92-9eed51baec16"
   },
   "outputs": [],
   "source": [
    "headlines[0]"
   ]
  },
  {
   "cell_type": "code",
   "execution_count": null,
   "metadata": {
    "id": "yag_NdIWxm8t"
   },
   "outputs": [],
   "source": [
    "from sklearn.feature_extraction.text import CountVectorizer\n",
    "from sklearn.ensemble import RandomForestClassifier\n"
   ]
  },
  {
   "cell_type": "code",
   "execution_count": null,
   "metadata": {
    "id": "LFMcXx_3xo90"
   },
   "outputs": [],
   "source": [
    "# Naive Bayes / Bag of words\n",
    "countvector=CountVectorizer(ngram_range=(2,2))\n",
    "traindataset=countvector.fit_transform(headlines)"
   ]
  },
  {
   "cell_type": "code",
   "execution_count": null,
   "metadata": {
    "colab": {
     "base_uri": "https://localhost:8080/",
     "height": 74
    },
    "id": "kgY_DhZQxrS8",
    "outputId": "4c9d2106-d408-4015-fc44-256fd800bca1"
   },
   "outputs": [],
   "source": [
    "#RandomForest Classifier\n",
    "randomclassifier=RandomForestClassifier(n_estimators=200,criterion='entropy')\n",
    "randomclassifier.fit(traindataset,train['Label'])"
   ]
  },
  {
   "cell_type": "code",
   "execution_count": null,
   "metadata": {
    "id": "QCAghrLMxtjS"
   },
   "outputs": [],
   "source": [
    "# Predict for the Test Dataset\n",
    "test_transform= []\n",
    "for row in range(0,len(test.index)):\n",
    "    test_transform.append(' '.join(str(x) for x in test.iloc[row,2:27]))\n",
    "test_dataset = countvector.transform(test_transform)\n",
    "predictions = randomclassifier.predict(test_dataset)\n"
   ]
  },
  {
   "cell_type": "code",
   "execution_count": null,
   "metadata": {
    "colab": {
     "base_uri": "https://localhost:8080/",
     "height": 1000
    },
    "id": "-efZojzZXcpr",
    "outputId": "b26ea5d4-b9fc-4c92-c220-43fc207ce709"
   },
   "outputs": [],
   "source": [
    "test"
   ]
  },
  {
   "cell_type": "code",
   "execution_count": null,
   "metadata": {
    "colab": {
     "base_uri": "https://localhost:8080/"
    },
    "id": "tt2d1xPsUNA2",
    "outputId": "24cc92fe-52d5-4148-ffb9-8c1a7bffb161"
   },
   "outputs": [],
   "source": [
    "test.loc[3723,:]"
   ]
  },
  {
   "cell_type": "code",
   "execution_count": null,
   "metadata": {
    "colab": {
     "base_uri": "https://localhost:8080/"
    },
    "id": "c1zd60-yUaIA",
    "outputId": "b52c4220-661d-409f-834e-bfab55a7122c"
   },
   "outputs": [],
   "source": [
    "print(predictions)"
   ]
  },
  {
   "cell_type": "code",
   "execution_count": null,
   "metadata": {
    "id": "CgvEaijGpMo5"
   },
   "outputs": [],
   "source": [
    "train['headlines'] = headlines\n",
    "train_headlines = headlines\n",
    "\n",
    "test_headlines = test_transform"
   ]
  },
  {
   "cell_type": "code",
   "execution_count": null,
   "metadata": {
    "colab": {
     "base_uri": "https://localhost:8080/"
    },
    "id": "POVRZwd7pPbM",
    "outputId": "202f5aa5-59ae-429c-c3b5-2149598fc5c1"
   },
   "outputs": [],
   "source": [
    "import nltk\n",
    "nltk.download('stopwords')\n",
    "from nltk.corpus import stopwords\n",
    "from nltk.stem import PorterStemmer\n",
    "ps = PorterStemmer()\n",
    "train_corpus = []\n",
    "\n",
    "for i in range(0, len(train_headlines)):\n",
    "\n",
    "\n",
    "  words = train_headlines[i].split() # Tokenizing the news-title by words\n",
    "\n",
    "\n",
    "  words = [word for word in words if word not in set(stopwords.words('english'))]\n",
    "\n",
    "\n",
    "  words = [ps.stem(word) for word in words]\n",
    "\n",
    "\n",
    "  headline = ' '.join(words)\n",
    "\n",
    "\n",
    "  train_corpus.append(headline)"
   ]
  },
  {
   "cell_type": "code",
   "execution_count": null,
   "metadata": {
    "id": "7TIvhzyYpTDL"
   },
   "outputs": [],
   "source": [
    "test_corpus = []\n",
    "\n",
    "for i in range(0, len(test_headlines)):\n",
    "\n",
    "\n",
    "  words = test_headlines[i].split()\n",
    "\n",
    "\n",
    "  words = [word for word in words if word not in set(stopwords.words('english'))]\n",
    "\n",
    "\n",
    "  words = [ps.stem(word) for word in words]\n",
    "\n",
    "  headline = ' '.join(words)\n",
    "\n",
    "  test_corpus.append(headline)"
   ]
  },
  {
   "cell_type": "code",
   "execution_count": null,
   "metadata": {
    "id": "-StpBK24pYdB"
   },
   "outputs": [],
   "source": [
    "down_words = []\n",
    "for i in list(train['Label'][train['Label']==0].index):\n",
    "  down_words.append(train_corpus[i])\n",
    "\n",
    "up_words = []\n",
    "for i in list(train['Label'][train['Label']==1].index):\n",
    "  up_words.append(train_corpus[i])"
   ]
  },
  {
   "cell_type": "code",
   "execution_count": null,
   "metadata": {
    "colab": {
     "base_uri": "https://localhost:8080/",
     "height": 576
    },
    "id": "XZgmCBH7pbCg",
    "outputId": "0034815d-d5f5-4e38-9117-2c02ac785f02"
   },
   "outputs": [],
   "source": [
    "from wordcloud import WordCloud\n",
    "import matplotlib.pyplot as plt\n",
    "\n",
    "wordcloud1 = WordCloud(background_color='white', width=3000, height=2500).generate(down_words[1])\n",
    "plt.figure(figsize=(8,8))                                                                                                       #wordcloud for down words\n",
    "plt.imshow(wordcloud1)\n",
    "plt.axis('off')\n",
    "plt.title(\"Indicating fall in Stock \")\n",
    "plt.show()"
   ]
  },
  {
   "cell_type": "code",
   "execution_count": null,
   "metadata": {
    "colab": {
     "base_uri": "https://localhost:8080/",
     "height": 576
    },
    "id": "nTCHqjnPpdys",
    "outputId": "33de73e8-6aa1-4d79-c880-7b3c394bae91"
   },
   "outputs": [],
   "source": [
    "wordcloud2 = WordCloud(background_color='white', width=3000, height=2500).generate(up_words[5])\n",
    "plt.figure(figsize=(8,8))\n",
    "plt.imshow(wordcloud2) #wordcloud for down words\n",
    "plt.axis('off')\n",
    "plt.title(\"Indicating rise in Stock \")\n",
    "plt.show()"
   ]
  },
  {
   "cell_type": "code",
   "execution_count": null,
   "metadata": {
    "colab": {
     "base_uri": "https://localhost:8080/"
    },
    "id": "mWLb3IGexyNn",
    "outputId": "fde6ae3f-f843-44d5-aa7a-2a9486d53722"
   },
   "outputs": [],
   "source": [
    "from sklearn.metrics import classification_report,confusion_matrix,accuracy_score\n",
    "matrix=confusion_matrix(test['Label'],predictions)\n",
    "print(matrix)\n",
    "score=accuracy_score(test['Label'],predictions)\n",
    "print(score)\n",
    "report=classification_report(test['Label'],predictions)\n",
    "print(report)"
   ]
  },
  {
   "cell_type": "code",
   "execution_count": null,
   "metadata": {
    "colab": {
     "base_uri": "https://localhost:8080/",
     "height": 449
    },
    "id": "buFS7fHZx0gL",
    "outputId": "8c72e89d-5125-4c9f-8db2-6b670edd41e0"
   },
   "outputs": [],
   "source": [
    "import matplotlib.pyplot as plt\n",
    "import seaborn as sns\n",
    "from sklearn.metrics import confusion_matrix\n",
    "cm = confusion_matrix(test['Label'], predictions)\n",
    "sns.heatmap(cm, annot=True, fmt=\"d\")\n",
    "plt.xlabel('Predicted')\n",
    "plt.ylabel('Actual')\n",
    "plt.show()\n"
   ]
  }
 ],
 "metadata": {
  "colab": {
   "provenance": []
  },
  "kernelspec": {
   "display_name": "Python 3 (ipykernel)",
   "language": "python",
   "name": "python3"
  },
  "language_info": {
   "codemirror_mode": {
    "name": "ipython",
    "version": 3
   },
   "file_extension": ".py",
   "mimetype": "text/x-python",
   "name": "python",
   "nbconvert_exporter": "python",
   "pygments_lexer": "ipython3",
   "version": "3.12.2"
  }
 },
 "nbformat": 4,
 "nbformat_minor": 1
}
